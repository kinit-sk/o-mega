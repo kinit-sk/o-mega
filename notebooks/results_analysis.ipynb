{
 "cells": [
  {
   "cell_type": "code",
   "execution_count": 1,
   "id": "210fc8b3",
   "metadata": {},
   "outputs": [],
   "source": [
    "import pandas as pd\n",
    "import glob\n",
    "import os\n"
   ]
  },
  {
   "cell_type": "markdown",
   "id": "02823d7c",
   "metadata": {},
   "source": [
    "### Sampler results"
   ]
  },
  {
   "cell_type": "code",
   "execution_count": 8,
   "id": "86ae9011",
   "metadata": {},
   "outputs": [],
   "source": [
    "sampler_path='./results/sampler_tables/baseline_sampler.csv'"
   ]
  },
  {
   "cell_type": "code",
   "execution_count": null,
   "id": "8ba74785",
   "metadata": {},
   "outputs": [],
   "source": [
    "df = pd.read_csv(sampler_path)\n",
    "df = df.loc[:, ~df.columns.str.contains('^Unnamed')]\n",
    "df"
   ]
  },
  {
   "cell_type": "markdown",
   "id": "ed60a966",
   "metadata": {},
   "source": [
    "### Counter results"
   ]
  },
  {
   "cell_type": "code",
   "execution_count": 21,
   "id": "016aa1b5",
   "metadata": {},
   "outputs": [],
   "source": [
    "counter_path='./results/count_tables/baseline_counter.csv'"
   ]
  },
  {
   "cell_type": "code",
   "execution_count": null,
   "id": "f910e237",
   "metadata": {},
   "outputs": [],
   "source": [
    "df_2 = pd.read_csv(counter_path)\n",
    "df_2 = df_2.loc[:, ~df_2.columns.str.contains('^Unnamed')]\n",
    "df_2 = df_2.drop(columns=['aopc_compr-probs', 'aopc_suff-probs','size'])\n",
    "\n",
    "df_2"
   ]
  },
  {
   "cell_type": "markdown",
   "id": "1da94439",
   "metadata": {},
   "source": [
    "### AOPC plots"
   ]
  },
  {
   "cell_type": "code",
   "execution_count": null,
   "id": "d2e01abd",
   "metadata": {},
   "outputs": [],
   "source": [
    "import matplotlib.pyplot as plt\n",
    "import matplotlib.image as mpimg\n",
    "\n",
    "img = mpimg.imread('./results/aopc_plots/aopc_compr.png')\n",
    "plt.imshow(img)\n",
    "plt.axis('off')\n",
    "plt.show()"
   ]
  },
  {
   "cell_type": "code",
   "execution_count": null,
   "id": "5bdcb59a",
   "metadata": {},
   "outputs": [],
   "source": [
    "import matplotlib.pyplot as plt\n",
    "import matplotlib.image as mpimg\n",
    "\n",
    "img = mpimg.imread('./results/aopc_plots/aopc_suff.png')\n",
    "plt.imshow(img)\n",
    "plt.axis('off')\n",
    "plt.show()"
   ]
  }
 ],
 "metadata": {
  "kernelspec": {
   "display_name": "env_autoxai_project",
   "language": "python",
   "name": "python3"
  },
  "language_info": {
   "codemirror_mode": {
    "name": "ipython",
    "version": 3
   },
   "file_extension": ".py",
   "mimetype": "text/x-python",
   "name": "python",
   "nbconvert_exporter": "python",
   "pygments_lexer": "ipython3",
   "version": "3.9.23"
  }
 },
 "nbformat": 4,
 "nbformat_minor": 5
}
