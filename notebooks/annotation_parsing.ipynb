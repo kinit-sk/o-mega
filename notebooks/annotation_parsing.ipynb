{
 "cells": [
  {
   "cell_type": "code",
   "execution_count": 1,
   "metadata": {},
   "outputs": [],
   "source": [
    "import sys\n",
    "sys.path.append(\"../src\")"
   ]
  },
  {
   "cell_type": "code",
   "execution_count": 2,
   "metadata": {},
   "outputs": [],
   "source": [
    "from sentence_transformers import SentenceTransformer\n",
    "\n",
    "from dataset import OurDataset\n",
    "from annotations import Annotations, TokenConversion"
   ]
  },
  {
   "cell_type": "code",
   "execution_count": 15,
   "metadata": {},
   "outputs": [],
   "source": [
    "dataset = OurDataset(csv_dirpath=\"../data-testtest\")\n"
   ]
  },
  {
   "cell_type": "code",
   "execution_count": 16,
   "metadata": {},
   "outputs": [
    {
     "data": {
      "text/plain": [
       "6386"
      ]
     },
     "execution_count": 16,
     "metadata": {},
     "output_type": "execute_result"
    }
   ],
   "source": [
    "len(dataset)"
   ]
  },
  {
   "cell_type": "code",
   "execution_count": 11,
   "metadata": {},
   "outputs": [],
   "source": [
    "\n",
    "model = SentenceTransformer(\"../models/GTR-T5-FT\")\n",
    "convert = TokenConversion(model.tokenizer)"
   ]
  },
  {
   "cell_type": "code",
   "execution_count": 17,
   "metadata": {},
   "outputs": [
    {
     "name": "stderr",
     "output_type": "stream",
     "text": [
      "100%|██████████| 49/49 [00:02<00:00, 22.03it/s]\n"
     ]
    }
   ],
   "source": [
    "# TODO You need to have JSONL file exported from Doccano for this to work\n",
    "# After executing this code you would end up with a file similar to the one on\n",
    "# the path ./data/annotations/rationale.json\n",
    "\n",
    "annot = Annotations(\n",
    "    annotations_path=\"../data/annotations/annotations_from_doccano.jsonl\", \n",
    "    original_json_path=\"../data/annotations/original_json_for_annotations.json\"\n",
    ")\n",
    "annot.create_rationale_masks(\n",
    "    dataset, convert, savepath=\"../tmp/rationale-test.json\", \n",
    "    rationale_for_real_tokens=False\n",
    ")"
   ]
  }
 ],
 "metadata": {
  "kernelspec": {
   "display_name": "projectXAI",
   "language": "python",
   "name": "python3"
  },
  "language_info": {
   "codemirror_mode": {
    "name": "ipython",
    "version": 3
   },
   "file_extension": ".py",
   "mimetype": "text/x-python",
   "name": "python",
   "nbconvert_exporter": "python",
   "pygments_lexer": "ipython3",
   "version": "3.9.19"
  }
 },
 "nbformat": 4,
 "nbformat_minor": 2
}
